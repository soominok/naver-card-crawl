{
 "cells": [
  {
   "cell_type": "code",
   "execution_count": 1,
   "id": "56f3c4bd",
   "metadata": {},
   "outputs": [
    {
     "name": "stdout",
     "output_type": "stream",
     "text": [
      "Collecting jupyterlab"
     ]
    },
    {
     "name": "stderr",
     "output_type": "stream",
     "text": [
      "ERROR: After October 2020 you may experience errors when installing or updating packages. This is because pip will change the way that it resolves dependency conflicts.\n",
      "\n",
      "We recommend you use --use-feature=2020-resolver to test your packages with the new resolver before it becomes the default.\n",
      "\n",
      "nbconvert 6.5.0 requires jinja2>=3.0, but you'll have jinja2 2.11.3 which is incompatible.\n",
      "nbconvert 6.5.0 requires MarkupSafe>=2.0, but you'll have markupsafe 1.1.1 which is incompatible.\n",
      "jupyterlab-server 2.14.0 requires jinja2>=3.0.3, but you'll have jinja2 2.11.3 which is incompatible.\n"
     ]
    },
    {
     "name": "stdout",
     "output_type": "stream",
     "text": [
      "\n",
      "  Downloading jupyterlab-3.4.3-py3-none-any.whl (8.8 MB)\n",
      "Collecting jupyterlab-server~=2.10\n",
      "  Downloading jupyterlab_server-2.14.0-py3-none-any.whl (54 kB)\n",
      "Requirement already satisfied: tornado>=6.1.0 in c:\\miniconda\\miniconda3\\lib\\site-packages (from jupyterlab) (6.1)\n",
      "Requirement already satisfied: packaging in c:\\miniconda\\miniconda3\\lib\\site-packages (from jupyterlab) (21.3)\n",
      "Collecting jupyter-server~=1.16\n",
      "  Downloading jupyter_server-1.17.1-py3-none-any.whl (344 kB)\n",
      "Requirement already satisfied: jinja2>=2.1 in c:\\miniconda\\miniconda3\\lib\\site-packages (from jupyterlab) (2.11.3)\n",
      "Collecting nbclassic~=0.2\n",
      "  Downloading nbclassic-0.3.7-py3-none-any.whl (13 kB)\n",
      "Requirement already satisfied: jupyter-core in c:\\miniconda\\miniconda3\\lib\\site-packages (from jupyterlab) (4.7.1)\n",
      "Requirement already satisfied: ipython in c:\\miniconda\\miniconda3\\lib\\site-packages (from jupyterlab) (7.22.0)\n",
      "Requirement already satisfied: importlib-metadata>=3.6; python_version < \"3.10\" in c:\\miniconda\\miniconda3\\lib\\site-packages (from jupyterlab-server~=2.10->jupyterlab) (4.11.3)\n",
      "Collecting babel\n",
      "  Downloading Babel-2.10.1-py3-none-any.whl (9.5 MB)\n",
      "Requirement already satisfied: jsonschema>=3.0.1 in c:\\miniconda\\miniconda3\\lib\\site-packages (from jupyterlab-server~=2.10->jupyterlab) (3.2.0)\n",
      "Collecting json5\n",
      "  Downloading json5-0.9.8.tar.gz (22 kB)\n",
      "Requirement already satisfied: requests in c:\\miniconda\\miniconda3\\lib\\site-packages (from jupyterlab-server~=2.10->jupyterlab) (2.24.0)\n",
      "Requirement already satisfied: pyparsing!=3.0.5,>=2.0.2 in c:\\miniconda\\miniconda3\\lib\\site-packages (from packaging->jupyterlab) (2.4.7)\n",
      "Collecting anyio<4,>=3.1.0\n",
      "  Downloading anyio-3.6.1-py3-none-any.whl (80 kB)\n",
      "Requirement already satisfied: pyzmq>=17 in c:\\miniconda\\miniconda3\\lib\\site-packages (from jupyter-server~=1.16->jupyterlab) (19.0.2)\n",
      "Requirement already satisfied: pywinpty; os_name == \"nt\" in c:\\miniconda\\miniconda3\\lib\\site-packages (from jupyter-server~=1.16->jupyterlab) (0.5.7)\n",
      "Requirement already satisfied: terminado>=0.8.3 in c:\\miniconda\\miniconda3\\lib\\site-packages (from jupyter-server~=1.16->jupyterlab) (0.9.4)\n",
      "Collecting nbconvert>=6.4.4\n",
      "  Using cached nbconvert-6.5.0-py3-none-any.whl (561 kB)\n",
      "Requirement already satisfied: argon2-cffi in c:\\miniconda\\miniconda3\\lib\\site-packages (from jupyter-server~=1.16->jupyterlab) (20.1.0)\n",
      "Requirement already satisfied: Send2Trash in c:\\miniconda\\miniconda3\\lib\\site-packages (from jupyter-server~=1.16->jupyterlab) (1.5.0)\n",
      "Requirement already satisfied: prometheus-client in c:\\miniconda\\miniconda3\\lib\\site-packages (from jupyter-server~=1.16->jupyterlab) (0.10.1)\n",
      "Collecting nbformat>=5.2.0\n",
      "  Using cached nbformat-5.4.0-py3-none-any.whl (73 kB)\n",
      "Requirement already satisfied: jupyter-client>=6.1.12 in c:\\miniconda\\miniconda3\\lib\\site-packages (from jupyter-server~=1.16->jupyterlab) (6.1.12)\n",
      "Collecting traitlets>=5.1\n",
      "  Using cached traitlets-5.2.2.post1-py3-none-any.whl (106 kB)\n",
      "Collecting websocket-client\n",
      "  Downloading websocket_client-1.3.2-py3-none-any.whl (54 kB)\n",
      "Requirement already satisfied: MarkupSafe>=0.23 in c:\\miniconda\\miniconda3\\lib\\site-packages (from jinja2>=2.1->jupyterlab) (1.1.1)\n",
      "Requirement already satisfied: notebook<7 in c:\\miniconda\\miniconda3\\lib\\site-packages (from nbclassic~=0.2->jupyterlab) (6.3.0)\n",
      "Collecting notebook-shim>=0.1.0\n",
      "  Downloading notebook_shim-0.1.0-py3-none-any.whl (13 kB)\n",
      "Requirement already satisfied: pywin32>=1.0; sys_platform == \"win32\" in c:\\miniconda\\miniconda3\\lib\\site-packages (from jupyter-core->jupyterlab) (227)\n",
      "Requirement already satisfied: colorama; sys_platform == \"win32\" in c:\\miniconda\\miniconda3\\lib\\site-packages (from ipython->jupyterlab) (0.4.4)\n",
      "Requirement already satisfied: prompt-toolkit!=3.0.0,!=3.0.1,<3.1.0,>=2.0.0 in c:\\miniconda\\miniconda3\\lib\\site-packages (from ipython->jupyterlab) (3.0.17)\n",
      "Requirement already satisfied: pygments in c:\\miniconda\\miniconda3\\lib\\site-packages (from ipython->jupyterlab) (2.8.1)\n",
      "Requirement already satisfied: decorator in c:\\miniconda\\miniconda3\\lib\\site-packages (from ipython->jupyterlab) (5.0.6)\n",
      "Requirement already satisfied: backcall in c:\\miniconda\\miniconda3\\lib\\site-packages (from ipython->jupyterlab) (0.2.0)\n",
      "Requirement already satisfied: jedi>=0.16 in c:\\miniconda\\miniconda3\\lib\\site-packages (from ipython->jupyterlab) (0.17.0)\n",
      "Requirement already satisfied: setuptools>=18.5 in c:\\miniconda\\miniconda3\\lib\\site-packages (from ipython->jupyterlab) (50.3.1.post20201107)\n",
      "Requirement already satisfied: pickleshare in c:\\miniconda\\miniconda3\\lib\\site-packages (from ipython->jupyterlab) (0.7.5)\n",
      "Requirement already satisfied: zipp>=0.5 in c:\\miniconda\\miniconda3\\lib\\site-packages (from importlib-metadata>=3.6; python_version < \"3.10\"->jupyterlab-server~=2.10->jupyterlab) (3.4.1)\n",
      "Requirement already satisfied: pytz>=2015.7 in c:\\miniconda\\miniconda3\\lib\\site-packages (from babel->jupyterlab-server~=2.10->jupyterlab) (2021.1)\n",
      "Requirement already satisfied: attrs>=17.4.0 in c:\\miniconda\\miniconda3\\lib\\site-packages (from jsonschema>=3.0.1->jupyterlab-server~=2.10->jupyterlab) (20.3.0)\n",
      "Requirement already satisfied: pyrsistent>=0.14.0 in c:\\miniconda\\miniconda3\\lib\\site-packages (from jsonschema>=3.0.1->jupyterlab-server~=2.10->jupyterlab) (0.17.3)\n",
      "Requirement already satisfied: six>=1.11.0 in c:\\miniconda\\miniconda3\\lib\\site-packages (from jsonschema>=3.0.1->jupyterlab-server~=2.10->jupyterlab) (1.15.0)\n",
      "Requirement already satisfied: chardet<4,>=3.0.2 in c:\\miniconda\\miniconda3\\lib\\site-packages (from requests->jupyterlab-server~=2.10->jupyterlab) (3.0.4)\n",
      "Requirement already satisfied: certifi>=2017.4.17 in c:\\miniconda\\miniconda3\\lib\\site-packages (from requests->jupyterlab-server~=2.10->jupyterlab) (2020.12.5)\n",
      "Requirement already satisfied: urllib3!=1.25.0,!=1.25.1,<1.26,>=1.21.1 in c:\\miniconda\\miniconda3\\lib\\site-packages (from requests->jupyterlab-server~=2.10->jupyterlab) (1.25.11)\n",
      "Requirement already satisfied: idna<3,>=2.5 in c:\\miniconda\\miniconda3\\lib\\site-packages (from requests->jupyterlab-server~=2.10->jupyterlab) (2.10)\n",
      "Requirement already satisfied: sniffio>=1.1 in c:\\miniconda\\miniconda3\\lib\\site-packages (from anyio<4,>=3.1.0->jupyter-server~=1.16->jupyterlab) (1.2.0)\n",
      "Requirement already satisfied: jupyterlab-pygments in c:\\miniconda\\miniconda3\\lib\\site-packages (from nbconvert>=6.4.4->jupyter-server~=1.16->jupyterlab) (0.1.2)\n",
      "Requirement already satisfied: pandocfilters>=1.4.1 in c:\\miniconda\\miniconda3\\lib\\site-packages (from nbconvert>=6.4.4->jupyter-server~=1.16->jupyterlab) (1.4.3)\n",
      "Requirement already satisfied: beautifulsoup4 in c:\\miniconda\\miniconda3\\lib\\site-packages (from nbconvert>=6.4.4->jupyter-server~=1.16->jupyterlab) (4.6.0)\n",
      "Requirement already satisfied: nbclient>=0.5.0 in c:\\miniconda\\miniconda3\\lib\\site-packages (from nbconvert>=6.4.4->jupyter-server~=1.16->jupyterlab) (0.5.3)\n",
      "Requirement already satisfied: bleach in c:\\miniconda\\miniconda3\\lib\\site-packages (from nbconvert>=6.4.4->jupyter-server~=1.16->jupyterlab) (3.3.0)\n",
      "Requirement already satisfied: entrypoints>=0.2.2 in c:\\miniconda\\miniconda3\\lib\\site-packages (from nbconvert>=6.4.4->jupyter-server~=1.16->jupyterlab) (0.3)\n",
      "Requirement already satisfied: mistune<2,>=0.8.1 in c:\\miniconda\\miniconda3\\lib\\site-packages (from nbconvert>=6.4.4->jupyter-server~=1.16->jupyterlab) (0.8.4)\n",
      "Requirement already satisfied: defusedxml in c:\\miniconda\\miniconda3\\lib\\site-packages (from nbconvert>=6.4.4->jupyter-server~=1.16->jupyterlab) (0.7.1)\n",
      "Collecting tinycss2\n",
      "  Using cached tinycss2-1.1.1-py3-none-any.whl (21 kB)\n",
      "Requirement already satisfied: cffi>=1.0.0 in c:\\miniconda\\miniconda3\\lib\\site-packages (from argon2-cffi->jupyter-server~=1.16->jupyterlab) (1.14.3)\n",
      "Collecting fastjsonschema\n",
      "  Using cached fastjsonschema-2.15.3-py3-none-any.whl (22 kB)\n",
      "Requirement already satisfied: python-dateutil>=2.1 in c:\\miniconda\\miniconda3\\lib\\site-packages (from jupyter-client>=6.1.12->jupyter-server~=1.16->jupyterlab) (2.8.1)\n",
      "Requirement already satisfied: ipykernel in c:\\miniconda\\miniconda3\\lib\\site-packages (from notebook<7->nbclassic~=0.2->jupyterlab) (5.3.4)\n",
      "Requirement already satisfied: ipython-genutils in c:\\miniconda\\miniconda3\\lib\\site-packages (from notebook<7->nbclassic~=0.2->jupyterlab) (0.2.0)\n",
      "Requirement already satisfied: wcwidth in c:\\miniconda\\miniconda3\\lib\\site-packages (from prompt-toolkit!=3.0.0,!=3.0.1,<3.1.0,>=2.0.0->ipython->jupyterlab) (0.2.5)\n",
      "Requirement already satisfied: parso>=0.7.0 in c:\\miniconda\\miniconda3\\lib\\site-packages (from jedi>=0.16->ipython->jupyterlab) (0.8.2)\n",
      "Requirement already satisfied: async-generator in c:\\miniconda\\miniconda3\\lib\\site-packages (from nbclient>=0.5.0->nbconvert>=6.4.4->jupyter-server~=1.16->jupyterlab) (1.10)\n",
      "Requirement already satisfied: nest-asyncio in c:\\miniconda\\miniconda3\\lib\\site-packages (from nbclient>=0.5.0->nbconvert>=6.4.4->jupyter-server~=1.16->jupyterlab) (1.5.1)\n",
      "Requirement already satisfied: webencodings in c:\\miniconda\\miniconda3\\lib\\site-packages (from bleach->nbconvert>=6.4.4->jupyter-server~=1.16->jupyterlab) (0.5.1)\n",
      "Requirement already satisfied: pycparser in c:\\miniconda\\miniconda3\\lib\\site-packages (from cffi>=1.0.0->argon2-cffi->jupyter-server~=1.16->jupyterlab) (2.20)\n",
      "Building wheels for collected packages: json5\n",
      "  Building wheel for json5 (setup.py): started\n",
      "  Building wheel for json5 (setup.py): finished with status 'done'\n",
      "  Created wheel for json5: filename=json5-0.9.8-py2.py3-none-any.whl size=18608 sha256=39ec1b6c9962ecba98b135fb3aad0737a029382f862ffe8c1ad324f4e2e828f4\n",
      "  Stored in directory: c:\\users\\기획팀\\appdata\\local\\pip\\cache\\wheels\\ec\\fb\\6f\\3a96bd8561194ae86da3c5101ed7462eb466ce35ea7a85db16\n",
      "Successfully built json5\n",
      "Installing collected packages: anyio, traitlets, fastjsonschema, nbformat, tinycss2, nbconvert, websocket-client, jupyter-server, babel, json5, jupyterlab-server, notebook-shim, nbclassic, jupyterlab\n",
      "  Attempting uninstall: traitlets\n",
      "    Found existing installation: traitlets 5.0.5\n",
      "    Uninstalling traitlets-5.0.5:\n",
      "      Successfully uninstalled traitlets-5.0.5\n",
      "  Attempting uninstall: nbformat\n",
      "    Found existing installation: nbformat 5.1.3\n",
      "    Uninstalling nbformat-5.1.3:\n",
      "      Successfully uninstalled nbformat-5.1.3\n",
      "  Attempting uninstall: nbconvert\n",
      "    Found existing installation: nbconvert 6.0.7\n",
      "    Uninstalling nbconvert-6.0.7:\n",
      "      Successfully uninstalled nbconvert-6.0.7\n",
      "Successfully installed anyio-3.6.1 babel-2.10.1 fastjsonschema-2.15.3 json5-0.9.8 jupyter-server-1.17.1 jupyterlab-3.4.3 jupyterlab-server-2.14.0 nbclassic-0.3.7 nbconvert-6.5.0 nbformat-5.4.0 notebook-shim-0.1.0 tinycss2-1.1.1 traitlets-5.2.2.post1 websocket-client-1.3.2\n"
     ]
    }
   ],
   "source": [
    "!pip install jupyterlab"
   ]
  },
  {
   "cell_type": "markdown",
   "id": "f15ab73b",
   "metadata": {},
   "source": [
    "# 원하는 데이터 페이지 접근 (Selenium 이용)"
   ]
  },
  {
   "cell_type": "markdown",
   "id": "82e44393",
   "metadata": {},
   "source": [
    "### Seleninum\n",
    "- beautiful soup에서 다룰 수 없는 동적인 부분은 selenium 이용\n",
    "- selenium webdriver라는 웹 어플리케이션을 테스팅할 때 사용하는 무료 도구를 이용 (API를 제공하는 오픈소스 프레임워크)\n",
    "- https://l0o02.github.io/2018/06/13/selenium-with-beautifulsoup-1/\n",
    "- https://medium.com/@peteryun/python-selenium%EC%9D%84-%ED%99%9C%EC%9A%A9%ED%95%9C-%ED%81%AC%EB%A1%A4%EB%9F%AC-%EB%A7%8C%EB%93%A4%EA%B8%B0-b055cefd1195\n",
    "- https://heodolf.tistory.com/80\n",
    "- https://0433.tistory.com/41"
   ]
  },
  {
   "cell_type": "code",
   "execution_count": 9,
   "id": "58c0cc8b",
   "metadata": {
    "scrolled": true
   },
   "outputs": [
    {
     "name": "stderr",
     "output_type": "stream",
     "text": [
      "<ipython-input-9-de83dacf784a>:10: DeprecationWarning: find_element_by_xpath is deprecated. Please use find_element(by=By.XPATH, value=xpath) instead\n",
      "  box_all = driver.find_element_by_xpath(\"//ul[@class='tabpanel']/ul\")\n"
     ]
    },
    {
     "ename": "NoSuchElementException",
     "evalue": "Message: no such element: Unable to locate element: {\"method\":\"xpath\",\"selector\":\"//ul[@class='tabpanel']/ul\"}\n  (Session info: chrome=102.0.5005.63)\nStacktrace:\nBacktrace:\n\tOrdinal0 [0x00A8D953+2414931]\n\tOrdinal0 [0x00A1F5E1+1963489]\n\tOrdinal0 [0x0090C6B8+837304]\n\tOrdinal0 [0x00939500+1021184]\n\tOrdinal0 [0x0093979B+1021851]\n\tOrdinal0 [0x00966502+1205506]\n\tOrdinal0 [0x009544E4+1131748]\n\tOrdinal0 [0x00964812+1198098]\n\tOrdinal0 [0x009542B6+1131190]\n\tOrdinal0 [0x0092E860+976992]\n\tOrdinal0 [0x0092F756+980822]\n\tGetHandleVerifier [0x00CFCC62+2510274]\n\tGetHandleVerifier [0x00CEF760+2455744]\n\tGetHandleVerifier [0x00B1EABA+551962]\n\tGetHandleVerifier [0x00B1D916+547446]\n\tOrdinal0 [0x00A25F3B+1990459]\n\tOrdinal0 [0x00A2A898+2009240]\n\tOrdinal0 [0x00A2A985+2009477]\n\tOrdinal0 [0x00A33AD1+2046673]\n\tBaseThreadInitThunk [0x75D1FA29+25]\n\tRtlGetAppContainerNamedObjectPath [0x776D7A7E+286]\n\tRtlGetAppContainerNamedObjectPath [0x776D7A4E+238]\n",
     "output_type": "error",
     "traceback": [
      "\u001b[1;31m---------------------------------------------------------------------------\u001b[0m",
      "\u001b[1;31mNoSuchElementException\u001b[0m                    Traceback (most recent call last)",
      "\u001b[1;32m<ipython-input-9-de83dacf784a>\u001b[0m in \u001b[0;36m<module>\u001b[1;34m\u001b[0m\n\u001b[0;32m      8\u001b[0m \u001b[1;31m# assert \"네이버 신용카드 정보: 313개 카드 검색결과\" in driver.title # 해당 사이트 html title이 지정해놓은 title과 맞지 않으면 에러를 내보내도록 하는 예외처리\u001b[0m\u001b[1;33m\u001b[0m\u001b[1;33m\u001b[0m\u001b[1;33m\u001b[0m\u001b[0m\n\u001b[0;32m      9\u001b[0m \u001b[1;33m\u001b[0m\u001b[0m\n\u001b[1;32m---> 10\u001b[1;33m \u001b[0mbox_all\u001b[0m \u001b[1;33m=\u001b[0m \u001b[0mdriver\u001b[0m\u001b[1;33m.\u001b[0m\u001b[0mfind_element_by_xpath\u001b[0m\u001b[1;33m(\u001b[0m\u001b[1;34m\"//ul[@class='tabpanel']/ul\"\u001b[0m\u001b[1;33m)\u001b[0m\u001b[1;33m\u001b[0m\u001b[1;33m\u001b[0m\u001b[0m\n\u001b[0m\u001b[0;32m     11\u001b[0m \u001b[0mbox_list\u001b[0m \u001b[1;33m=\u001b[0m \u001b[0mbox_all\u001b[0m\u001b[1;33m.\u001b[0m\u001b[0mfind_elements_by_tag_name\u001b[0m\u001b[1;33m(\u001b[0m\u001b[1;34m'li'\u001b[0m\u001b[1;33m)\u001b[0m\u001b[1;33m\u001b[0m\u001b[1;33m\u001b[0m\u001b[0m\n\u001b[0;32m     12\u001b[0m \u001b[1;32mfor\u001b[0m \u001b[0mitem\u001b[0m \u001b[1;32min\u001b[0m \u001b[0mbox_list\u001b[0m\u001b[1;33m:\u001b[0m\u001b[1;33m\u001b[0m\u001b[1;33m\u001b[0m\u001b[0m\n",
      "\u001b[1;32mC:\\Miniconda\\miniconda3\\lib\\site-packages\\selenium\\webdriver\\remote\\webdriver.py\u001b[0m in \u001b[0;36mfind_element_by_xpath\u001b[1;34m(self, xpath)\u001b[0m\n\u001b[0;32m    519\u001b[0m             \u001b[0mstacklevel\u001b[0m\u001b[1;33m=\u001b[0m\u001b[1;36m2\u001b[0m\u001b[1;33m,\u001b[0m\u001b[1;33m\u001b[0m\u001b[1;33m\u001b[0m\u001b[0m\n\u001b[0;32m    520\u001b[0m         )\n\u001b[1;32m--> 521\u001b[1;33m         \u001b[1;32mreturn\u001b[0m \u001b[0mself\u001b[0m\u001b[1;33m.\u001b[0m\u001b[0mfind_element\u001b[0m\u001b[1;33m(\u001b[0m\u001b[0mby\u001b[0m\u001b[1;33m=\u001b[0m\u001b[0mBy\u001b[0m\u001b[1;33m.\u001b[0m\u001b[0mXPATH\u001b[0m\u001b[1;33m,\u001b[0m \u001b[0mvalue\u001b[0m\u001b[1;33m=\u001b[0m\u001b[0mxpath\u001b[0m\u001b[1;33m)\u001b[0m\u001b[1;33m\u001b[0m\u001b[1;33m\u001b[0m\u001b[0m\n\u001b[0m\u001b[0;32m    522\u001b[0m \u001b[1;33m\u001b[0m\u001b[0m\n\u001b[0;32m    523\u001b[0m     \u001b[1;32mdef\u001b[0m \u001b[0mfind_elements_by_xpath\u001b[0m\u001b[1;33m(\u001b[0m\u001b[0mself\u001b[0m\u001b[1;33m,\u001b[0m \u001b[0mxpath\u001b[0m\u001b[1;33m)\u001b[0m \u001b[1;33m->\u001b[0m \u001b[0mList\u001b[0m\u001b[1;33m[\u001b[0m\u001b[0mWebElement\u001b[0m\u001b[1;33m]\u001b[0m\u001b[1;33m:\u001b[0m\u001b[1;33m\u001b[0m\u001b[1;33m\u001b[0m\u001b[0m\n",
      "\u001b[1;32mC:\\Miniconda\\miniconda3\\lib\\site-packages\\selenium\\webdriver\\remote\\webdriver.py\u001b[0m in \u001b[0;36mfind_element\u001b[1;34m(self, by, value)\u001b[0m\n\u001b[0;32m   1246\u001b[0m             \u001b[0mvalue\u001b[0m \u001b[1;33m=\u001b[0m \u001b[1;34m'[name=\"%s\"]'\u001b[0m \u001b[1;33m%\u001b[0m \u001b[0mvalue\u001b[0m\u001b[1;33m\u001b[0m\u001b[1;33m\u001b[0m\u001b[0m\n\u001b[0;32m   1247\u001b[0m \u001b[1;33m\u001b[0m\u001b[0m\n\u001b[1;32m-> 1248\u001b[1;33m         return self.execute(Command.FIND_ELEMENT, {\n\u001b[0m\u001b[0;32m   1249\u001b[0m             \u001b[1;34m'using'\u001b[0m\u001b[1;33m:\u001b[0m \u001b[0mby\u001b[0m\u001b[1;33m,\u001b[0m\u001b[1;33m\u001b[0m\u001b[1;33m\u001b[0m\u001b[0m\n\u001b[0;32m   1250\u001b[0m             'value': value})['value']\n",
      "\u001b[1;32mC:\\Miniconda\\miniconda3\\lib\\site-packages\\selenium\\webdriver\\remote\\webdriver.py\u001b[0m in \u001b[0;36mexecute\u001b[1;34m(self, driver_command, params)\u001b[0m\n\u001b[0;32m    423\u001b[0m         \u001b[0mresponse\u001b[0m \u001b[1;33m=\u001b[0m \u001b[0mself\u001b[0m\u001b[1;33m.\u001b[0m\u001b[0mcommand_executor\u001b[0m\u001b[1;33m.\u001b[0m\u001b[0mexecute\u001b[0m\u001b[1;33m(\u001b[0m\u001b[0mdriver_command\u001b[0m\u001b[1;33m,\u001b[0m \u001b[0mparams\u001b[0m\u001b[1;33m)\u001b[0m\u001b[1;33m\u001b[0m\u001b[1;33m\u001b[0m\u001b[0m\n\u001b[0;32m    424\u001b[0m         \u001b[1;32mif\u001b[0m \u001b[0mresponse\u001b[0m\u001b[1;33m:\u001b[0m\u001b[1;33m\u001b[0m\u001b[1;33m\u001b[0m\u001b[0m\n\u001b[1;32m--> 425\u001b[1;33m             \u001b[0mself\u001b[0m\u001b[1;33m.\u001b[0m\u001b[0merror_handler\u001b[0m\u001b[1;33m.\u001b[0m\u001b[0mcheck_response\u001b[0m\u001b[1;33m(\u001b[0m\u001b[0mresponse\u001b[0m\u001b[1;33m)\u001b[0m\u001b[1;33m\u001b[0m\u001b[1;33m\u001b[0m\u001b[0m\n\u001b[0m\u001b[0;32m    426\u001b[0m             response['value'] = self._unwrap_value(\n\u001b[0;32m    427\u001b[0m                 response.get('value', None))\n",
      "\u001b[1;32mC:\\Miniconda\\miniconda3\\lib\\site-packages\\selenium\\webdriver\\remote\\errorhandler.py\u001b[0m in \u001b[0;36mcheck_response\u001b[1;34m(self, response)\u001b[0m\n\u001b[0;32m    245\u001b[0m                 \u001b[0malert_text\u001b[0m \u001b[1;33m=\u001b[0m \u001b[0mvalue\u001b[0m\u001b[1;33m[\u001b[0m\u001b[1;34m'alert'\u001b[0m\u001b[1;33m]\u001b[0m\u001b[1;33m.\u001b[0m\u001b[0mget\u001b[0m\u001b[1;33m(\u001b[0m\u001b[1;34m'text'\u001b[0m\u001b[1;33m)\u001b[0m\u001b[1;33m\u001b[0m\u001b[1;33m\u001b[0m\u001b[0m\n\u001b[0;32m    246\u001b[0m             \u001b[1;32mraise\u001b[0m \u001b[0mexception_class\u001b[0m\u001b[1;33m(\u001b[0m\u001b[0mmessage\u001b[0m\u001b[1;33m,\u001b[0m \u001b[0mscreen\u001b[0m\u001b[1;33m,\u001b[0m \u001b[0mstacktrace\u001b[0m\u001b[1;33m,\u001b[0m \u001b[0malert_text\u001b[0m\u001b[1;33m)\u001b[0m  \u001b[1;31m# type: ignore[call-arg]  # mypy is not smart enough here\u001b[0m\u001b[1;33m\u001b[0m\u001b[1;33m\u001b[0m\u001b[0m\n\u001b[1;32m--> 247\u001b[1;33m         \u001b[1;32mraise\u001b[0m \u001b[0mexception_class\u001b[0m\u001b[1;33m(\u001b[0m\u001b[0mmessage\u001b[0m\u001b[1;33m,\u001b[0m \u001b[0mscreen\u001b[0m\u001b[1;33m,\u001b[0m \u001b[0mstacktrace\u001b[0m\u001b[1;33m)\u001b[0m\u001b[1;33m\u001b[0m\u001b[1;33m\u001b[0m\u001b[0m\n\u001b[0m\u001b[0;32m    248\u001b[0m \u001b[1;33m\u001b[0m\u001b[0m\n\u001b[0;32m    249\u001b[0m     \u001b[1;32mdef\u001b[0m \u001b[0m_value_or_default\u001b[0m\u001b[1;33m(\u001b[0m\u001b[0mself\u001b[0m\u001b[1;33m,\u001b[0m \u001b[0mobj\u001b[0m\u001b[1;33m:\u001b[0m \u001b[0mMapping\u001b[0m\u001b[1;33m[\u001b[0m\u001b[0m_KT\u001b[0m\u001b[1;33m,\u001b[0m \u001b[0m_VT\u001b[0m\u001b[1;33m]\u001b[0m\u001b[1;33m,\u001b[0m \u001b[0mkey\u001b[0m\u001b[1;33m:\u001b[0m \u001b[0m_KT\u001b[0m\u001b[1;33m,\u001b[0m \u001b[0mdefault\u001b[0m\u001b[1;33m:\u001b[0m \u001b[0m_VT\u001b[0m\u001b[1;33m)\u001b[0m \u001b[1;33m->\u001b[0m \u001b[0m_VT\u001b[0m\u001b[1;33m:\u001b[0m\u001b[1;33m\u001b[0m\u001b[1;33m\u001b[0m\u001b[0m\n",
      "\u001b[1;31mNoSuchElementException\u001b[0m: Message: no such element: Unable to locate element: {\"method\":\"xpath\",\"selector\":\"//ul[@class='tabpanel']/ul\"}\n  (Session info: chrome=102.0.5005.63)\nStacktrace:\nBacktrace:\n\tOrdinal0 [0x00A8D953+2414931]\n\tOrdinal0 [0x00A1F5E1+1963489]\n\tOrdinal0 [0x0090C6B8+837304]\n\tOrdinal0 [0x00939500+1021184]\n\tOrdinal0 [0x0093979B+1021851]\n\tOrdinal0 [0x00966502+1205506]\n\tOrdinal0 [0x009544E4+1131748]\n\tOrdinal0 [0x00964812+1198098]\n\tOrdinal0 [0x009542B6+1131190]\n\tOrdinal0 [0x0092E860+976992]\n\tOrdinal0 [0x0092F756+980822]\n\tGetHandleVerifier [0x00CFCC62+2510274]\n\tGetHandleVerifier [0x00CEF760+2455744]\n\tGetHandleVerifier [0x00B1EABA+551962]\n\tGetHandleVerifier [0x00B1D916+547446]\n\tOrdinal0 [0x00A25F3B+1990459]\n\tOrdinal0 [0x00A2A898+2009240]\n\tOrdinal0 [0x00A2A985+2009477]\n\tOrdinal0 [0x00A33AD1+2046673]\n\tBaseThreadInitThunk [0x75D1FA29+25]\n\tRtlGetAppContainerNamedObjectPath [0x776D7A7E+286]\n\tRtlGetAppContainerNamedObjectPath [0x776D7A4E+238]\n"
     ]
    }
   ],
   "source": [
    "import selenium\n",
    "from selenium import webdriver\n",
    "\n",
    "chrome_options = Options()\n",
    "chrome_options.add_argument( '--headless' )\n",
    "chrome_options.add_argument( '--log-level=3' )\n",
    "chrome_options.add_argument( '--disable-logging' )\n",
    "chrome_options.add_argument( '--no-sandbox' )\n",
    "chrome_options.add_argument( '--disable-gpu' )\n",
    "\n",
    "driver = webdriver.Chrome()\n",
    "url = 'https://card-search.naver.com/list'\n",
    "driver.get(url)\n",
    "\n",
    "# assert \"네이버 신용카드 정보: 313개 카드 검색결과\" in driver.title # 해당 사이트 html title이 지정해놓은 title과 맞지 않으면 에러를 내보내도록 하는 예외처리\n",
    "\n",
    "box_all = driver.find_element_by_xpath(\"//ul[@class='tabpanel']/ul\")\n",
    "box_list = box_all.find_elements_by_tag_name('li')\n",
    "for item in box_list:\n",
    "    print(item.text)"
   ]
  },
  {
   "cell_type": "code",
   "execution_count": 11,
   "id": "301f47fb",
   "metadata": {},
   "outputs": [
    {
     "name": "stdout",
     "output_type": "stream",
     "text": [
      "신용카드 개수: 1\n",
      "<div class=\"orders\"><button class=\"order\" aria-selected=\"true\">관련광고순</button><button class=\"order\" aria-selected=\"false\">검색순</button></div><ul class=\"list\"><li class=\"item\"><a class=\"anchor\" href=\"/item?cardAdId=1530&amp;query=삼성카드 taptap O&amp;pquery=\"></a><div class=\"preview\"><a class=\"anchor\" href=\"/item?cardAdId=1530&amp;query=삼성카드 taptap O&amp;pquery=\"><figure class=\"figure\"><img class=\"img\" src=\"https://vertical.pstatic.net/vertical-cardad/creatives/SS/1530/SS_1530_hor.png\" alt=\"\"></figure></a><a class=\"apply\" target=\"_blank\" href=\"https://tivan.naver.com/cac/VawPwrjW5hhzBuN5BEM0hbKg27P5z8cO_f5iN9ksMwfmc6wcHZZorpk5sHEDWG3ICNrjJaiBsTULliLIWDy43kI7dyuuK6WY2J0AhlY07Buo8AMI6RV-ySWQyHSqh3CLhC_5km6pHnMZRr11GYt71BfwvSGaXHsocq8gmvhkFLJH7YQjfgjOmC5uUBbLplv68szZb9dh7PrHfnAmZkQqKGrpE5HlZ6DD6xIdKzSqzK0hz0-EtB7eoMdzYC73FdS7BkMqZCCCRT2Kq5MUl9KrXT0hOG2zSCGg86FAdiOpSGJaZrcYkLGOdcgzR7FsdBhvwuayokh8Id-HRmaF37_AT1nVbpCKwfQWvgJmvwwNFkHA_JM-chqOoJ7qMYlhl9vH_h-yjgSc14mWGY7hwWxNnET5wjzNxbK62zvT_MS9_LMrasexRBJpYMhXIORWXJBI82X5yzXyq8Em3gysxsfL3hhcsPNfXG52ojVqCjL7nws=?ce=register\">카드신청</a></div><div class=\"info\"><a class=\"anchor\" href=\"/item?cardAdId=1530&amp;query=삼성카드 taptap O&amp;pquery=\"><b class=\"name\">삼성카드 taptap O</b></a><p class=\"desc\">스타벅스50%, 교통·통신10% 할인</p><i class=\"annual_fee\">국내 1만원, 해외 1만원</i><span class=\"events\"><i class=\"tag\">신규 최대 1만원 지급</i></span><span class=\"rewards\"><i class=\"reward\"><img class=\"icon\" src=\"https://vertical.pstatic.net/vertical-cardad/benefits/icons/bene_62.png\" alt=\"포인트/캐시백\">포인트/캐시백</i><i class=\"reward\"><img class=\"icon\" src=\"https://vertical.pstatic.net/vertical-cardad/benefits/icons/bene_13.png\" alt=\"카페/베이커리\">카페/베이커리</i></span></div><img src=\"https://tivan.naver.com/cai/-tuLh_QsWIH0MWwCGK9OIfrd5mS7yE6ZyHWnowVmlhtigblmYmYM2cdIgoBYBxFS9wND0iQoscPksmqVYCs4Yp9AIckk8wdInCqIE4mnnjOTvfKx-N77hxKMO_KBFGvJQxg5wCL9wPNc3oeVd7XCZOcSoJZthYBe2wLAWGq2m--Eg7a95hiiabPNOu6OiVtuenovvBmclSrsYqVYxEEEublMC1qbK7kRWwHSdpBFBp-KkTCFhdJTvcxN9yyMFwhUu39GzMPooTGZliKD5KSpo3dqK9q1qiW17lVP6fAZH20ngNtVSz-bJKO4Yu_EJ1NfImOnXYnl-iRu_-lf-KD_qa55EAIJhKLxjdS_CiiPBW0qP9RDwPSiHAnDgNOb65xZVsi2WyivI8lTY25MjfJl01ZSn_y2qv4T2trEGEouS4c=\" width=\"1\" height=\"1\" alt=\"\" style=\"position:absolute\"></li><li class=\"item\"><a class=\"anchor\" href=\"/item?cardAdId=2481&amp;query=KB국민 탄탄대로 올쇼핑 티타늄카드&amp;pquery=\"></a><div class=\"preview\"><a class=\"anchor\" href=\"/item?cardAdId=2481&amp;query=KB국민 탄탄대로 올쇼핑 티타늄카드&amp;pquery=\"><figure class=\"figure\"><img class=\"img\" src=\"https://vertical.pstatic.net/vertical-cardad/creatives/KB/2481/KB_2481_hor.png\" alt=\"\"><i class=\"tag_npaysimple\" title=\"N Pay 간편입력\"></i></figure></a><a class=\"apply\" target=\"_blank\" href=\"https://tivan.naver.com/cac/P6VdCQJjA3kSDWDI4AojswOBFkStTlVpsMbftpxKUPchSGi0DneWxCpgQS9fbK10lYh1mZ7YDFslb4CIf9kr3sV8lHg8NRRcnNwwdqUqflRsGhHAcRLV8xFuyj-jFavEog7YX_hfwBHU9yWA1xinbXLYFVGQeEq3z72A49CLi5GKpvxaIgVXMIX0aaAH42WPC9kuhr_1sxt_rXRF7Per25C-jGHOroCoiLAkPWPmfFnNIhCXMponVZB46Q05DJDhwoFDZRxPDdiWYwu94qx_g2YdB5Pbjxjchf0GU-F-Uf21ZvYoNj-erSme44juF38cw67kerliSezohYvBAuAo0iRe73iLCw8EpYdOaD5Ok5VgyOcP11N3XuQgESJp8T_khX9jVvwmi9v13V-k4NZH-LhmNJciKxQ2UQmiPyuSGWg=?ce=register\">카드신청</a></div><div class=\"info\"><a class=\"anchor\" href=\"/item?cardAdId=2481&amp;query=KB국민 탄탄대로 올쇼핑 티타늄카드&amp;pquery=\"><b class=\"name\">KB국민 탄탄대로 올쇼핑 티타늄카드</b></a><p class=\"desc\">주유·쇼핑·통신·관리비까지 모두 할인</p><i class=\"annual_fee\">국내 3만원, 해외 3만원</i><span class=\"events\"><i class=\"tag\">신규 최대 3만원 지급</i></span><span class=\"rewards\"><i class=\"reward\"><img class=\"icon\" src=\"https://vertical.pstatic.net/vertical-cardad/benefits/icons/bene_12.png\" alt=\"쇼핑\">쇼핑</i><i class=\"reward\"><img class=\"icon\" src=\"https://vertical.pstatic.net/vertical-cardad/benefits/icons/bene_1.png\" alt=\"주유\">주유</i></span></div></li><li class=\"item\"><a class=\"anchor\" href=\"/item?cardAdId=223&amp;query=삼성카드 4&amp;pquery=\"></a><div class=\"preview\"><a class=\"anchor\" href=\"/item?cardAdId=223&amp;query=삼성카드 4&amp;pquery=\"><figure class=\"figure\"><img class=\"img\" src=\"https://vertical.pstatic.net/vertical-cardad/creatives/SS/223/SS_223_hor.png\" alt=\"\"></figure></a><a class=\"apply\" target=\"_blank\" href=\"https://tivan.naver.com/cac/ohK-twMmTnxOqvm3_ilUOmtwem022uygoNhFzchYoQ0IaFkccCA9IHF7xtYIoVwswRwvJwLcSeR9dF2um9fGW65yj538Th-FlBVQDtd0dYwbK8B38AB8Md6v6HtK4AqcyN43Pz45SH44wYIWWFnIXgvJXvTBj19jdrKO8tA5zFZr2r4A4SmBIBOr4518DWsQHqBtkqtSRf4ws07JNmEbnvaqkyF5Ij69Tjp02MmkQfWtgjzqZdQ8SVe2qHk_odmyZ3TOfGFl3UcLaAwPGXAnf4iRsNOQAzFGXXJyqzoQvjDmW8Qsfw5rckERKJqlTxINtlRT6zGwtn2xvnvPqmxyi14PanniL5C6bJL5PA0AAi_58HOVYGh0lYcmhMKoHLtKYmm1qQRyI0oRwWEtWC4HJqun0tVk2RI-ixf_xVILzrhJWdUs9nSyptoJwAhKOMTuVxxSq_intbwZjJ77AceeoK87IuU2Y34gQfE04z-0QgQ=?ce=register\">카드신청</a></div><div class=\"info\"><a class=\"anchor\" href=\"/item?cardAdId=223&amp;query=삼성카드 4&amp;pquery=\"><b class=\"name\">삼성카드 4</b></a><p class=\"desc\">실적한도 제한없이 어디서나 할인!</p><i class=\"annual_fee\">국내 5천원, 해외 1만원</i><span class=\"events\"><i class=\"tag\">신규 최대 1만원 지급</i></span><span class=\"rewards\"><i class=\"reward\"><img class=\"icon\" src=\"https://vertical.pstatic.net/vertical-cardad/benefits/icons/bene_83.png\" alt=\"언제나할인\">언제나할인</i><i class=\"reward\"><img class=\"icon\" src=\"https://vertical.pstatic.net/vertical-cardad/benefits/icons/bene_12.png\" alt=\"쇼핑\">쇼핑</i></span></div></li><li class=\"item\"><a class=\"anchor\" href=\"/item?cardAdId=1408&amp;query=신한카드 Mr.Life&amp;pquery=\"></a><div class=\"preview\"><a class=\"anchor\" href=\"/item?cardAdId=1408&amp;query=신한카드 Mr.Life&amp;pquery=\"><figure class=\"figure\"><img class=\"img\" src=\"https://vertical.pstatic.net/vertical-cardad/creatives/SH/1408/SH_1408_hor.png\" alt=\"\"></figure></a><a class=\"apply\" target=\"_blank\" href=\"https://tivan.naver.com/cac/o718gjHQkSq21fPC8AgVy83KBzZl2_WjVfW5xe9Utt_yKz-MNDaGdod09IEbFFlMQAdaYT78wVyhGV7jM2zGMucRbnaHIRhXK_ubmAbbCMg4XToXxQTtY3RLNqm3o8hxZPAatRjcaU8s5ugk-vgjvfEEpWVEFFntYpbIc-LwEHHG44ePxOLIST_nl9y-rRYTc1XjUF_RgnRaOhsGawJZF9voCXRwQdYddzE2qqq7kP1RjLrqYfLAhtD39hebIQns_gEq1yxkrXjY7I5zEbXwVBGNsBJSO8pTODAElBU629M4IX24XRF8CDy02PJQvmj6YkhcZygFXXzJz8_0HHUzSz_aCZx_USuu8OWxjklDromTB4R6VgugPqnZkP9Ozvgl2p6iCXWqKffAF-jfRcPhcCBlRZcW2AtBvuNT8BB9pz0=?ce=register\">카드신청</a></div><div class=\"info\"><a class=\"anchor\" href=\"/item?cardAdId=1408&amp;query=신한카드 Mr.Life&amp;pquery=\"><b class=\"name\">신한카드 Mr.Life</b></a><p class=\"desc\">생활혜택 연간 최대 60만원 할인!</p><i class=\"annual_fee\">국내 1만5천원, 해외 1만8천원</i><span class=\"events\"><i class=\"tag\">신규 최대 1만8천원 지급</i></span><span class=\"rewards\"><i class=\"reward\"><img class=\"icon\" src=\"https://vertical.pstatic.net/vertical-cardad/benefits/icons/bene_163.png\" alt=\"연회비지원\">연회비지원</i><i class=\"reward\"><img class=\"icon\" src=\"https://vertical.pstatic.net/vertical-cardad/benefits/icons/bene_8.png\" alt=\"관리비\">관리비</i></span></div></li><li class=\"item\"><a class=\"anchor\" href=\"/item?cardAdId=10105&amp;query=LOCA LIKIT 1.2&amp;pquery=\"></a><div class=\"preview\"><a class=\"anchor\" href=\"/item?cardAdId=10105&amp;query=LOCA LIKIT 1.2&amp;pquery=\"><figure class=\"figure\"><img class=\"img\" src=\"https://vertical.pstatic.net/vertical-cardad/creatives/LO/10105/LO_10105_20211111-160041_ver.png\" alt=\"\"><i class=\"tag_npaysimple\" title=\"N Pay 간편입력\"></i></figure></a><a class=\"apply\" target=\"_blank\" href=\"https://tivan.naver.com/cac/ohMIw84pZujUqA-CvX_Tz4dMR1F-s8hK7qAhWkWTPD0YveFIkCYG2LgbXuOq5pCSTPEZj4UfZT0f9AvP3q98S_3Nynuly-u5ft1u0489b63Mk0DTKZX6cZ7Tse6lZmnVpoaiTkkyUomUvbVpaSPnjyn0avfbKL_i839QaIbhNDefd8B1kQDlcyT8pR9pYjO4MTQXC-NPDPho0dHyxcVJ-8M-0KTZDRf-T3kUJdF-zC_0Ms9H8Um29956mY5X5zsLRODNktpuQ_SRCuxihT5r1MiLuFXaYqRT95kt-g4wr-V7oswtWOQVhUsBoxMZHQXjzJLDCDKZYoeGwJugzv-QOFtlFhTRUi1jEHPbJcF26Dh67pR9cbRbi4e07nzd91aroypvQmRXCwjxn6tx1dItYF70v8sFd-Lc3aQoV9nIpkNyhjp-mvx94hYqKa1E1hA57Jnywgg1DzMQF2hXqZn9UA==?ce=register\">카드신청</a></div><div class=\"info\"><a class=\"anchor\" href=\"/item?cardAdId=10105&amp;query=LOCA LIKIT 1.2&amp;pquery=\"><b class=\"name\">LOCA LIKIT 1.2</b></a><p class=\"desc\">실적을 신경쓰지 않아도 어디서나 할인</p><i class=\"annual_fee\">국내 1만원, 해외 1만원</i><span class=\"events\"><i class=\"tag\">신규 최대 1만원 지급</i></span><span class=\"rewards\"><i class=\"reward\"><img class=\"icon\" src=\"https://vertical.pstatic.net/vertical-cardad/benefits/icons/bene_163.png\" alt=\"연회비지원\">연회비지원</i><i class=\"reward\"><img class=\"icon\" src=\"https://vertical.pstatic.net/vertical-cardad/benefits/icons/bene_83.png\" alt=\"언제나할인\">언제나할인</i></span></div></li><li class=\"item\"><a class=\"anchor\" href=\"/item?cardAdId=10102&amp;query=삼성 iD ON&amp;pquery=\"></a><div class=\"preview\"><a class=\"anchor\" href=\"/item?cardAdId=10102&amp;query=삼성 iD ON&amp;pquery=\"><figure class=\"figure\"><img class=\"img\" src=\"https://vertical.pstatic.net/vertical-cardad/creatives/SS/10102/SS_10102_20211115-165246_ver.png\" alt=\"\"></figure></a><a class=\"apply\" target=\"_blank\" href=\"https://tivan.naver.com/cac/NdCh8kCl2gg5jF_lsuQV-Qa2k-T3pME5lFLn7DyWpuBd99LUvM7P-itaTE2IO3J3OB3r4LKV7cGOlu88V6XZgovRRg-dQDfrGxiSAUUXxKIQiF_SXOzl0xfyj5hhZiYjeMyZd28eUBtCvlo7fUAKdixIZWSshex6G2VJ3l0eQwVuf533_BCAd4zGJe4OCJWIcLwQNrxOH8UdM2gTQHzcfuVeD8x7U879kLRsX3wVZZkJmqTeX9f2tXxIW5PkG0_fL9FnMPyS4cvqqxOSXawMTTo2zcVI_qmGGUUCSS512vEkao3_CAjR5JHpNlfS2Hov1AAnbBKx0zY996FxrievAoqJE9guYdM2dbObuuLy8enpXVPvONcmeCN3hwCTIYOq8rziV8ZhAtkpNmVGbK8UblW-mAnB3csR1ZDHyn65ojZRkJjxwvBWo6dEPR18rvtqWPThWtIY58HxGxa57taAurNd2evs-yWNkuTbDoJHKF8=?ce=register\">카드신청</a></div><div class=\"info\"><a class=\"anchor\" href=\"/item?cardAdId=10102&amp;query=삼성 iD ON&amp;pquery=\"><b class=\"name\">삼성 iD ON</b></a><p class=\"desc\">연 최대 48만원 할인!</p><i class=\"annual_fee\">국내 2만원, 해외 2만원</i><span class=\"events\"><i class=\"tag\">신규 최대 2만원 지급</i></span><span class=\"rewards\"><i class=\"reward\"><img class=\"icon\" src=\"https://vertical.pstatic.net/vertical-cardad/benefits/icons/bene_14.png\" alt=\"외식\">외식</i><i class=\"reward\"><img class=\"icon\" src=\"https://vertical.pstatic.net/vertical-cardad/benefits/icons/bene_13.png\" alt=\"카페/베이커리\">카페/베이커리</i></span></div></li><li class=\"item\"><a class=\"anchor\" href=\"/item?cardAdId=1692&amp;query=KB국민 청춘대로 톡톡카드&amp;pquery=\"></a><div class=\"preview\"><a class=\"anchor\" href=\"/item?cardAdId=1692&amp;query=KB국민 청춘대로 톡톡카드&amp;pquery=\"><figure class=\"figure\"><img class=\"img\" src=\"https://vertical.pstatic.net/vertical-cardad/creatives/KB/1692/KB_1692_hor.png\" alt=\"\"><i class=\"tag_npaysimple\" title=\"N Pay 간편입력\"></i></figure></a><a class=\"apply\" target=\"_blank\" href=\"https://tivan.naver.com/cac/Fd4GBfeYyMt14B0WvH9eBwbE34skHPQH0PyvCATyr19JR-nXU1NF13yVaV962vL7R4ukemhxqP0hZXo7Vm_FgcNDuH1gKHYq4UXyBOYUedIs3gSs5V8K4roY8h7HxmrEOtX-K20COzbiGziJ0GRf9y6rep7rMbHQgP7VDBx2GG-EsLbRxKm9s60smATeamXxRqEoigY6MphO-Zcx2g_xQFiaQWTAUqjupLifWq-84zJmpQo99jwqTpivBWqpureeT0n6DYqXUW80osZ5_UXPRvjvS-Lxx9KsYiGhEIHAX5lAHlh0039uzRtRNeb_B1uHzUyfLxJgCvjFPIMIzALwt0xJDr5HT7o7Ow2u1L82smDh_r8pia78epPHvlvUBzy6pat-G6mLlazS8ngHmZ4ZqYM1YXOWaSmRukT7XVovlnA=?ce=register\">카드신청</a></div><div class=\"info\"><a class=\"anchor\" href=\"/item?cardAdId=1692&amp;query=KB국민 청춘대로 톡톡카드&amp;pquery=\"><b class=\"name\">KB국민 청춘대로 톡톡카드</b></a><p class=\"desc\">스벅 최대60%, 교통·통신10%할인</p><i class=\"annual_fee\">국내 1만원, 해외 1만2천원</i><span class=\"events\"><i class=\"tag\">신규 최대 1만2천원 지급</i></span><span class=\"rewards\"><i class=\"reward\"><img class=\"icon\" src=\"https://vertical.pstatic.net/vertical-cardad/benefits/icons/bene_13.png\" alt=\"카페/베이커리\">카페/베이커리</i><i class=\"reward\"><img class=\"icon\" src=\"https://vertical.pstatic.net/vertical-cardad/benefits/icons/bene_14.png\" alt=\"외식\">외식</i></span></div></li><li class=\"item\"><a class=\"anchor\" href=\"/item?cardAdId=3881&amp;query=taptap DRIVE&amp;pquery=\"></a><div class=\"preview\"><a class=\"anchor\" href=\"/item?cardAdId=3881&amp;query=taptap DRIVE&amp;pquery=\"><figure class=\"figure\"><img class=\"img\" src=\"https://vertical.pstatic.net/vertical-cardad/creatives/SS/3881/SS_3881_hor.png\" alt=\"\"></figure></a><a class=\"apply\" target=\"_blank\" href=\"https://tivan.naver.com/cac/Ng7S6Jeio_qe0ALKcWQPuDBcTpmUjbOSBsduKjsI9OBq2LuEb8npbKlwrHnUpbgQ2F9CN2g5GR3-jQYc0CJVcVsA2H1xCAEJTeyG3m2fxrIjicBBf7jMKa7J1tIHXIbx5l_WyrU5iNJpI_z6djFrdBwo_WIs329tsplcbd5ZbKVmfEDkpHQMQH_BYpomdGYwp-MwXS5x3Mq3EHe2E9nT9ijzDXIJJ6av9UphVG0_gJMiJ_AwKx-wfLTk3pirvux7EW-WBUFSyo5IWmys6RONfgubUuyeqieEDzi-ZGpcK1JBrPmAp0hE9GrFkFNeOggcQ-gR_DzcZIXSIIfIU-_fKozl3geaK_66i0wqfM9LOiOGTETRbt0QwBgiMCCsgtEtNhArH3MkvuAJj3mk6t7pTlkYjm_6cOVO_GNeccMihnQ1bEdC33Af9ZPsubEZo_iGN63b3HtJNrfnQlLRAULUmA==?ce=register\">카드신청</a></div><div class=\"info\"><a class=\"anchor\" href=\"/item?cardAdId=3881&amp;query=taptap DRIVE&amp;pquery=\"><b class=\"name\">taptap DRIVE</b></a><p class=\"desc\">모든주유소 리터당 최대 150원 할인</p><i class=\"annual_fee\">국내 1만원, 해외 1만원</i><span class=\"events\"><i class=\"tag\">신규 최대 1만원 지급</i></span><span class=\"rewards\"><i class=\"reward\"><img class=\"icon\" src=\"https://vertical.pstatic.net/vertical-cardad/benefits/icons/bene_1.png\" alt=\"주유\">주유</i><i class=\"reward\"><img class=\"icon\" src=\"https://vertical.pstatic.net/vertical-cardad/benefits/icons/bene_16.png\" alt=\"편의점\">편의점</i></span></div></li><li class=\"item\"><a class=\"anchor\" href=\"/item?cardAdId=2337&amp;query=신한카드 Deep Oil&amp;pquery=\"></a><div class=\"preview\"><a class=\"anchor\" href=\"/item?cardAdId=2337&amp;query=신한카드 Deep Oil&amp;pquery=\"><figure class=\"figure\"><img class=\"img\" src=\"https://vertical.pstatic.net/vertical-cardad/creatives/SH/2337/SH_2337_hor.png\" alt=\"\"></figure></a><a class=\"apply\" target=\"_blank\" href=\"https://tivan.naver.com/cac/I10KGNx-NafVaqzigwk5iQKByRX6q80RmVT3Fk7BgVOYTfcaGbVHV1Mbezl-diIgT5rt8rfqWueYAnBNLITA-BPnk7iME7AHPJ6lzDtyOwQUVuePOkjo2qScE5dyapJN0NGhBw1EXY96RYOocpEgmgR_k8AiAM4y-3zEEOD_Njid0-PFl0Xj8i7wYLduXG-55i5_NWACWR1PN63KJlUlCXWZfxq2Tx_gdZsJc7W4p5apAImpEqwFGTFSLjNez9E0DwkFaBTz6yoAz2NeujrJLerqZMqGcibKQHYhOKPq5D2yPjbXp_tzvORWoYdDVmm3CKGRR8IBFdOraQX4GZHNOzB8QywgftElYg5gm70Jz_zoM2j1TPgrS6Cp4QNSyqRHJJoNSfXq4cMTuzh1BKNFPXcKzqC2gKGPAyml9UhQTmY=?ce=register\">카드신청</a></div><div class=\"info\"><a class=\"anchor\" href=\"/item?cardAdId=2337&amp;query=신한카드 Deep Oil&amp;pquery=\"><b class=\"name\">신한카드 Deep Oil</b></a><p class=\"desc\">연간 최대 36만원 주유비 할인!</p><i class=\"annual_fee\">국내 1만원, 해외 1만3천원</i><span class=\"events\"><i class=\"tag\">신규 최대 1만3천원 지급</i></span><span class=\"rewards\"><i class=\"reward\"><img class=\"icon\" src=\"https://vertical.pstatic.net/vertical-cardad/benefits/icons/bene_163.png\" alt=\"연회비지원\">연회비지원</i><i class=\"reward\"><img class=\"icon\" src=\"https://vertical.pstatic.net/vertical-cardad/benefits/icons/bene_1.png\" alt=\"주유\">주유</i></span></div></li><li class=\"item\"><a class=\"anchor\" href=\"/item?cardAdId=2332&amp;query=KB국민 톡톡Pay카드&amp;pquery=\"></a><div class=\"preview\"><a class=\"anchor\" href=\"/item?cardAdId=2332&amp;query=KB국민 톡톡Pay카드&amp;pquery=\"><figure class=\"figure\"><img class=\"img\" src=\"https://vertical.pstatic.net/vertical-cardad/creatives/KB/2332/KB_2332_hor.png\" alt=\"\"><i class=\"tag_npaysimple\" title=\"N Pay 간편입력\"></i></figure></a><a class=\"apply\" target=\"_blank\" href=\"https://tivan.naver.com/cac/gsRMAag3gH1QbTdVRTfkR0_8yrjKHV712xo9enZeyzW9CEjQZwN-gCycjFd0u59B_vBYgOWEz7pZauZsMDISL333ffdCkSn52D0o1zEntSCCIRNpDG9wBa7s420cz7iyvKA4fKiJmeXhBpclT2UnqKfCB2Jvb9Lcbh0eYASd2MpI-zcgRnT9DDIt4kbYd51J8CpPX23duTJFinEpLWIOIIOfPB5Oui6q-TUvo7t35z_yj1nG3w1H_Ljx74dJi5SpXGRS8fBnJjVo-uaOGqm00034swew9R7z7S3LabuXMxvGG5XGN1lSRr54ZwH9fY4w4muMSjhnqttjIzyu4tFPtQYG57Vi4R0k7G5FF0oeOZR1opApT30j6KgUUeHraa4gesaE8Ci2yH7KkHGh4myFgB0habTZgK0yg1vxM9ISEJc=?ce=register\">카드신청</a></div><div class=\"info\"><a class=\"anchor\" href=\"/item?cardAdId=2332&amp;query=KB국민 톡톡Pay카드&amp;pquery=\"><b class=\"name\">KB국민 톡톡Pay카드</b></a><p class=\"desc\">삼성·카카오페이등 간편결제 최대40%</p><i class=\"annual_fee\">국내 2만원, 해외 2만원</i><span class=\"events\"><i class=\"tag\">신규 최대 2만원 지급</i></span><span class=\"rewards\"><i class=\"reward\"><img class=\"icon\" src=\"https://vertical.pstatic.net/vertical-cardad/benefits/icons/bene_103.png\" alt=\"간편결제\">간편결제</i><i class=\"reward\"><img class=\"icon\" src=\"https://vertical.pstatic.net/vertical-cardad/benefits/icons/bene_15.png\" alt=\"대중교통\">대중교통</i></span></div></li></ul><button class=\"more\"><span class=\"name\">더보기</span><i class=\"count\">10/313</i></button>\n"
     ]
    },
    {
     "name": "stderr",
     "output_type": "stream",
     "text": [
      "<ipython-input-11-83aa5506b146>:18: DeprecationWarning: find_elements_by_css_selector is deprecated. Please use find_elements(by=By.CSS_SELECTOR, value=css_selector) instead\n",
      "  elements = driver.find_elements_by_css_selector('#app > div.cards > div > div.tabpanel')\n"
     ]
    }
   ],
   "source": [
    "import selenium\n",
    "from selenium import webdriver\n",
    "from selenium.webdriver.chrome.options import Options\n",
    "\n",
    "chrome_options = Options()\n",
    "chrome_options.add_argument( '--headless' )\n",
    "chrome_options.add_argument( '--log-level=3' )\n",
    "chrome_options.add_argument( '--disable-logging' )\n",
    "chrome_options.add_argument( '--no-sandbox' )\n",
    "chrome_options.add_argument( '--disable-gpu' )\n",
    "\n",
    "driver = webdriver.Chrome()\n",
    "url = 'https://card-search.naver.com/list'\n",
    "driver.get(url)\n",
    "\n",
    "# assert \"네이버 신용카드 정보: 313개 카드 검색결과\" in driver.title # 해당 사이트 html title이 지정해놓은 title과 맞지 않으면 에러를 내보내도록 하는 예외처리\n",
    "\n",
    "elements = driver.find_elements_by_css_selector('#app > div.cards > div > div.tabpanel')\n",
    "print('신용카드 개수: {}'.format(len(elements)))\n",
    "print(elements[0].get_attribute('innerHTML'))"
   ]
  },
  {
   "cell_type": "code",
   "execution_count": null,
   "id": "c8b4d32b",
   "metadata": {},
   "outputs": [],
   "source": [
    "import selenium\n",
    "from selenium import webdriver\n",
    "from selenium.webdriver.chrome.options import Options\n",
    "\n",
    "chrome_options = Options()\n",
    "chrome_options.add_argument( '--headless' )\n",
    "chrome_options.add_argument( '--log-level=3' )\n",
    "chrome_options.add_argument( '--disable-logging' )\n",
    "chrome_options.add_argument( '--no-sandbox' )\n",
    "chrome_options.add_argument( '--disable-gpu' )\n",
    "\n",
    "driver = webdriver.Chrome()\n",
    "url = 'https://card-search.naver.com/list'\n",
    "driver.get(url)\n",
    "\n",
    "# assert \"네이버 신용카드 정보: 313개 카드 검색결과\" in driver.title # 해당 사이트 html title이 지정해놓은 title과 맞지 않으면 에러를 내보내도록 하는 예외처리\n",
    "\n",
    "driver.close()\n",
    "\n",
    "elements = driver.find_elements_by_css_selector('#app > div.cards > div > div.tabpanel > ul > li') # 카드 목록\n",
    "print('신용카드 개수: {}'.format(len(elements)))\n",
    "print(elements[0].get_attribute('innerHTML'))\n",
    "\n",
    "\n",
    "elementList = elements.find_elements_by_tag_name(\"li\")\n",
    "    # el_card_nm = el.find_element_by_css_selector('div.info > a > b')\n",
    "    # el_card_desc_summary = el.find_element_by_css_selector('div.info > p')\n",
    "    # el_card_annual_fee = el.find_element_by_css_selector('div.info > i')\n",
    "    # el_card_rewards = el.find_element_by_css_selector('div.info > span.rewards')\n",
    "    \n",
    "print(elementList)"
   ]
  },
  {
   "cell_type": "code",
   "execution_count": 17,
   "id": "4d68edd9",
   "metadata": {},
   "outputs": [
    {
     "name": "stderr",
     "output_type": "stream",
     "text": [
      "<ipython-input-17-79a287270f6e>:21: DeprecationWarning: find_elements_by_css_selector is deprecated. Please use find_elements(by=By.CSS_SELECTOR, value=css_selector) instead\n",
      "  elements = driver.find_elements_by_css_selector('#app > div.cards > div > div.tabpanel > ul > li')\n"
     ]
    },
    {
     "ename": "InvalidSessionIdException",
     "evalue": "Message: invalid session id\nStacktrace:\nBacktrace:\n\tOrdinal0 [0x00A8D953+2414931]\n\tOrdinal0 [0x00A1F5E1+1963489]\n\tOrdinal0 [0x0090C580+836992]\n\tOrdinal0 [0x0092E53D+976189]\n\tOrdinal0 [0x0092F756+980822]\n\tGetHandleVerifier [0x00CFCC62+2510274]\n\tGetHandleVerifier [0x00CEF760+2455744]\n\tGetHandleVerifier [0x00B1EABA+551962]\n\tGetHandleVerifier [0x00B1D916+547446]\n\tOrdinal0 [0x00A25F3B+1990459]\n\tOrdinal0 [0x00A2A898+2009240]\n\tOrdinal0 [0x00A2A985+2009477]\n\tOrdinal0 [0x00A33AD1+2046673]\n\tBaseThreadInitThunk [0x75D1FA29+25]\n\tRtlGetAppContainerNamedObjectPath [0x776D7A7E+286]\n\tRtlGetAppContainerNamedObjectPath [0x776D7A4E+238]\n",
     "output_type": "error",
     "traceback": [
      "\u001b[1;31m---------------------------------------------------------------------------\u001b[0m",
      "\u001b[1;31mInvalidSessionIdException\u001b[0m                 Traceback (most recent call last)",
      "\u001b[1;32m<ipython-input-17-79a287270f6e>\u001b[0m in \u001b[0;36m<module>\u001b[1;34m\u001b[0m\n\u001b[0;32m     19\u001b[0m \u001b[1;33m\u001b[0m\u001b[0m\n\u001b[0;32m     20\u001b[0m \u001b[1;33m\u001b[0m\u001b[0m\n\u001b[1;32m---> 21\u001b[1;33m \u001b[0melements\u001b[0m \u001b[1;33m=\u001b[0m \u001b[0mdriver\u001b[0m\u001b[1;33m.\u001b[0m\u001b[0mfind_elements_by_css_selector\u001b[0m\u001b[1;33m(\u001b[0m\u001b[1;34m'#app > div.cards > div > div.tabpanel > ul > li'\u001b[0m\u001b[1;33m)\u001b[0m\u001b[1;33m\u001b[0m\u001b[1;33m\u001b[0m\u001b[0m\n\u001b[0m\u001b[0;32m     22\u001b[0m \u001b[0mprint\u001b[0m\u001b[1;33m(\u001b[0m\u001b[1;34m'신용카드 개수: {}'\u001b[0m\u001b[1;33m.\u001b[0m\u001b[0mformat\u001b[0m\u001b[1;33m(\u001b[0m\u001b[0mlen\u001b[0m\u001b[1;33m(\u001b[0m\u001b[0melements\u001b[0m\u001b[1;33m)\u001b[0m\u001b[1;33m)\u001b[0m\u001b[1;33m)\u001b[0m\u001b[1;33m\u001b[0m\u001b[1;33m\u001b[0m\u001b[0m\n\u001b[0;32m     23\u001b[0m \u001b[1;31m# print(elements[0].get_attribute('innerHTML'))\u001b[0m\u001b[1;33m\u001b[0m\u001b[1;33m\u001b[0m\u001b[1;33m\u001b[0m\u001b[0m\n",
      "\u001b[1;32mC:\\Miniconda\\miniconda3\\lib\\site-packages\\selenium\\webdriver\\remote\\webdriver.py\u001b[0m in \u001b[0;36mfind_elements_by_css_selector\u001b[1;34m(self, css_selector)\u001b[0m\n\u001b[0;32m    830\u001b[0m             \u001b[0mstacklevel\u001b[0m\u001b[1;33m=\u001b[0m\u001b[1;36m2\u001b[0m\u001b[1;33m,\u001b[0m\u001b[1;33m\u001b[0m\u001b[1;33m\u001b[0m\u001b[0m\n\u001b[0;32m    831\u001b[0m         )\n\u001b[1;32m--> 832\u001b[1;33m         \u001b[1;32mreturn\u001b[0m \u001b[0mself\u001b[0m\u001b[1;33m.\u001b[0m\u001b[0mfind_elements\u001b[0m\u001b[1;33m(\u001b[0m\u001b[0mby\u001b[0m\u001b[1;33m=\u001b[0m\u001b[0mBy\u001b[0m\u001b[1;33m.\u001b[0m\u001b[0mCSS_SELECTOR\u001b[0m\u001b[1;33m,\u001b[0m \u001b[0mvalue\u001b[0m\u001b[1;33m=\u001b[0m\u001b[0mcss_selector\u001b[0m\u001b[1;33m)\u001b[0m\u001b[1;33m\u001b[0m\u001b[1;33m\u001b[0m\u001b[0m\n\u001b[0m\u001b[0;32m    833\u001b[0m \u001b[1;33m\u001b[0m\u001b[0m\n\u001b[0;32m    834\u001b[0m     \u001b[1;32mdef\u001b[0m \u001b[0mpin_script\u001b[0m\u001b[1;33m(\u001b[0m\u001b[0mself\u001b[0m\u001b[1;33m,\u001b[0m \u001b[0mscript\u001b[0m\u001b[1;33m,\u001b[0m \u001b[0mscript_key\u001b[0m\u001b[1;33m=\u001b[0m\u001b[1;32mNone\u001b[0m\u001b[1;33m)\u001b[0m \u001b[1;33m->\u001b[0m \u001b[0mScriptKey\u001b[0m\u001b[1;33m:\u001b[0m\u001b[1;33m\u001b[0m\u001b[1;33m\u001b[0m\u001b[0m\n",
      "\u001b[1;32mC:\\Miniconda\\miniconda3\\lib\\site-packages\\selenium\\webdriver\\remote\\webdriver.py\u001b[0m in \u001b[0;36mfind_elements\u001b[1;34m(self, by, value)\u001b[0m\n\u001b[0;32m   1281\u001b[0m         \u001b[1;31m# Return empty list if driver returns null\u001b[0m\u001b[1;33m\u001b[0m\u001b[1;33m\u001b[0m\u001b[1;33m\u001b[0m\u001b[0m\n\u001b[0;32m   1282\u001b[0m         \u001b[1;31m# See https://github.com/SeleniumHQ/selenium/issues/4555\u001b[0m\u001b[1;33m\u001b[0m\u001b[1;33m\u001b[0m\u001b[1;33m\u001b[0m\u001b[0m\n\u001b[1;32m-> 1283\u001b[1;33m         return self.execute(Command.FIND_ELEMENTS, {\n\u001b[0m\u001b[0;32m   1284\u001b[0m             \u001b[1;34m'using'\u001b[0m\u001b[1;33m:\u001b[0m \u001b[0mby\u001b[0m\u001b[1;33m,\u001b[0m\u001b[1;33m\u001b[0m\u001b[1;33m\u001b[0m\u001b[0m\n\u001b[0;32m   1285\u001b[0m             'value': value})['value'] or []\n",
      "\u001b[1;32mC:\\Miniconda\\miniconda3\\lib\\site-packages\\selenium\\webdriver\\remote\\webdriver.py\u001b[0m in \u001b[0;36mexecute\u001b[1;34m(self, driver_command, params)\u001b[0m\n\u001b[0;32m    423\u001b[0m         \u001b[0mresponse\u001b[0m \u001b[1;33m=\u001b[0m \u001b[0mself\u001b[0m\u001b[1;33m.\u001b[0m\u001b[0mcommand_executor\u001b[0m\u001b[1;33m.\u001b[0m\u001b[0mexecute\u001b[0m\u001b[1;33m(\u001b[0m\u001b[0mdriver_command\u001b[0m\u001b[1;33m,\u001b[0m \u001b[0mparams\u001b[0m\u001b[1;33m)\u001b[0m\u001b[1;33m\u001b[0m\u001b[1;33m\u001b[0m\u001b[0m\n\u001b[0;32m    424\u001b[0m         \u001b[1;32mif\u001b[0m \u001b[0mresponse\u001b[0m\u001b[1;33m:\u001b[0m\u001b[1;33m\u001b[0m\u001b[1;33m\u001b[0m\u001b[0m\n\u001b[1;32m--> 425\u001b[1;33m             \u001b[0mself\u001b[0m\u001b[1;33m.\u001b[0m\u001b[0merror_handler\u001b[0m\u001b[1;33m.\u001b[0m\u001b[0mcheck_response\u001b[0m\u001b[1;33m(\u001b[0m\u001b[0mresponse\u001b[0m\u001b[1;33m)\u001b[0m\u001b[1;33m\u001b[0m\u001b[1;33m\u001b[0m\u001b[0m\n\u001b[0m\u001b[0;32m    426\u001b[0m             response['value'] = self._unwrap_value(\n\u001b[0;32m    427\u001b[0m                 response.get('value', None))\n",
      "\u001b[1;32mC:\\Miniconda\\miniconda3\\lib\\site-packages\\selenium\\webdriver\\remote\\errorhandler.py\u001b[0m in \u001b[0;36mcheck_response\u001b[1;34m(self, response)\u001b[0m\n\u001b[0;32m    245\u001b[0m                 \u001b[0malert_text\u001b[0m \u001b[1;33m=\u001b[0m \u001b[0mvalue\u001b[0m\u001b[1;33m[\u001b[0m\u001b[1;34m'alert'\u001b[0m\u001b[1;33m]\u001b[0m\u001b[1;33m.\u001b[0m\u001b[0mget\u001b[0m\u001b[1;33m(\u001b[0m\u001b[1;34m'text'\u001b[0m\u001b[1;33m)\u001b[0m\u001b[1;33m\u001b[0m\u001b[1;33m\u001b[0m\u001b[0m\n\u001b[0;32m    246\u001b[0m             \u001b[1;32mraise\u001b[0m \u001b[0mexception_class\u001b[0m\u001b[1;33m(\u001b[0m\u001b[0mmessage\u001b[0m\u001b[1;33m,\u001b[0m \u001b[0mscreen\u001b[0m\u001b[1;33m,\u001b[0m \u001b[0mstacktrace\u001b[0m\u001b[1;33m,\u001b[0m \u001b[0malert_text\u001b[0m\u001b[1;33m)\u001b[0m  \u001b[1;31m# type: ignore[call-arg]  # mypy is not smart enough here\u001b[0m\u001b[1;33m\u001b[0m\u001b[1;33m\u001b[0m\u001b[0m\n\u001b[1;32m--> 247\u001b[1;33m         \u001b[1;32mraise\u001b[0m \u001b[0mexception_class\u001b[0m\u001b[1;33m(\u001b[0m\u001b[0mmessage\u001b[0m\u001b[1;33m,\u001b[0m \u001b[0mscreen\u001b[0m\u001b[1;33m,\u001b[0m \u001b[0mstacktrace\u001b[0m\u001b[1;33m)\u001b[0m\u001b[1;33m\u001b[0m\u001b[1;33m\u001b[0m\u001b[0m\n\u001b[0m\u001b[0;32m    248\u001b[0m \u001b[1;33m\u001b[0m\u001b[0m\n\u001b[0;32m    249\u001b[0m     \u001b[1;32mdef\u001b[0m \u001b[0m_value_or_default\u001b[0m\u001b[1;33m(\u001b[0m\u001b[0mself\u001b[0m\u001b[1;33m,\u001b[0m \u001b[0mobj\u001b[0m\u001b[1;33m:\u001b[0m \u001b[0mMapping\u001b[0m\u001b[1;33m[\u001b[0m\u001b[0m_KT\u001b[0m\u001b[1;33m,\u001b[0m \u001b[0m_VT\u001b[0m\u001b[1;33m]\u001b[0m\u001b[1;33m,\u001b[0m \u001b[0mkey\u001b[0m\u001b[1;33m:\u001b[0m \u001b[0m_KT\u001b[0m\u001b[1;33m,\u001b[0m \u001b[0mdefault\u001b[0m\u001b[1;33m:\u001b[0m \u001b[0m_VT\u001b[0m\u001b[1;33m)\u001b[0m \u001b[1;33m->\u001b[0m \u001b[0m_VT\u001b[0m\u001b[1;33m:\u001b[0m\u001b[1;33m\u001b[0m\u001b[1;33m\u001b[0m\u001b[0m\n",
      "\u001b[1;31mInvalidSessionIdException\u001b[0m: Message: invalid session id\nStacktrace:\nBacktrace:\n\tOrdinal0 [0x00A8D953+2414931]\n\tOrdinal0 [0x00A1F5E1+1963489]\n\tOrdinal0 [0x0090C580+836992]\n\tOrdinal0 [0x0092E53D+976189]\n\tOrdinal0 [0x0092F756+980822]\n\tGetHandleVerifier [0x00CFCC62+2510274]\n\tGetHandleVerifier [0x00CEF760+2455744]\n\tGetHandleVerifier [0x00B1EABA+551962]\n\tGetHandleVerifier [0x00B1D916+547446]\n\tOrdinal0 [0x00A25F3B+1990459]\n\tOrdinal0 [0x00A2A898+2009240]\n\tOrdinal0 [0x00A2A985+2009477]\n\tOrdinal0 [0x00A33AD1+2046673]\n\tBaseThreadInitThunk [0x75D1FA29+25]\n\tRtlGetAppContainerNamedObjectPath [0x776D7A7E+286]\n\tRtlGetAppContainerNamedObjectPath [0x776D7A4E+238]\n"
     ]
    }
   ],
   "source": [
    "import selenium\n",
    "from selenium import webdriver\n",
    "from selenium.webdriver.chrome.options import Options\n",
    "\n",
    "# chrome_options = Options()\n",
    "# chrome_options.add_argument( '--headless' )\n",
    "# chrome_options.add_argument( '--log-level=3' )\n",
    "# chrome_options.add_argument( '--disable-logging' )\n",
    "# chrome_options.add_argument( '--no-sandbox' )\n",
    "# chrome_options.add_argument( '--disable-gpu' )\n",
    "\n",
    "driver = webdriver.Chrome()\n",
    "driver.implicitly_wait(3)\n",
    "url = 'https://card-search.naver.com/list'\n",
    "driver.get(url)\n",
    "driver.close()\n",
    "\n",
    "# assert \"네이버 신용카드 정보: 313개 카드 검색결과\" in driver.title # 해당 사이트 html title이 지정해놓은 title과 맞지 않으면 에러를 내보내도록 하는 예외처리\n",
    "\n",
    "\n",
    "elements = driver.find_elements_by_css_selector('#app > div.cards > div > div.tabpanel > ul')\n",
    "print('신용카드 개수: {}'.format(len(elements)))\n",
    "# print(elements[0].get_attribute('innerHTML'))\n",
    "\n",
    "\n",
    "for el in elements:\n",
    "    el_card_nm = el.find_elements_by_css_selector('li(1)')\n",
    "    \n",
    "    print(el)\n",
    "    #app > div.cards > div > div.tabpanel > ul > li:nth-child(1) > a"
   ]
  },
  {
   "cell_type": "code",
   "execution_count": null,
   "id": "2ad8691f",
   "metadata": {},
   "outputs": [],
   "source": []
  }
 ],
 "metadata": {
  "kernelspec": {
   "display_name": "Python 3",
   "language": "python",
   "name": "python3"
  },
  "language_info": {
   "codemirror_mode": {
    "name": "ipython",
    "version": 3
   },
   "file_extension": ".py",
   "mimetype": "text/x-python",
   "name": "python",
   "nbconvert_exporter": "python",
   "pygments_lexer": "ipython3",
   "version": "3.8.5"
  }
 },
 "nbformat": 4,
 "nbformat_minor": 5
}
